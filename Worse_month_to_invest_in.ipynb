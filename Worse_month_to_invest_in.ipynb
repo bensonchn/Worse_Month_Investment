{
  "cells": [
    {
      "cell_type": "code",
      "execution_count": 1,
      "metadata": {
        "colab": {
          "base_uri": "https://localhost:8080/"
        },
        "id": "MRBlHcBGngrQ",
        "outputId": "20a85fa4-6563-4ba8-e1dd-4111c54d2839"
      },
      "outputs": [
        {
          "name": "stdout",
          "output_type": "stream",
          "text": [
            "Collecting yfinance\n",
            "  Downloading yfinance-0.1.70-py2.py3-none-any.whl (26 kB)\n",
            "Collecting lxml>=4.5.1\n",
            "  Downloading lxml-4.8.0-cp37-cp37m-manylinux_2_17_x86_64.manylinux2014_x86_64.manylinux_2_24_x86_64.whl (6.4 MB)\n",
            "\u001b[K     |████████████████████████████████| 6.4 MB 7.2 MB/s \n",
            "\u001b[?25hRequirement already satisfied: pandas>=0.24.0 in /usr/local/lib/python3.7/dist-packages (from yfinance) (1.3.5)\n",
            "Requirement already satisfied: multitasking>=0.0.7 in /usr/local/lib/python3.7/dist-packages (from yfinance) (0.0.10)\n",
            "Requirement already satisfied: numpy>=1.15 in /usr/local/lib/python3.7/dist-packages (from yfinance) (1.21.5)\n",
            "Collecting requests>=2.26\n",
            "  Downloading requests-2.27.1-py2.py3-none-any.whl (63 kB)\n",
            "\u001b[K     |████████████████████████████████| 63 kB 1.1 MB/s \n",
            "\u001b[?25hRequirement already satisfied: pytz>=2017.3 in /usr/local/lib/python3.7/dist-packages (from pandas>=0.24.0->yfinance) (2018.9)\n",
            "Requirement already satisfied: python-dateutil>=2.7.3 in /usr/local/lib/python3.7/dist-packages (from pandas>=0.24.0->yfinance) (2.8.2)\n",
            "Requirement already satisfied: six>=1.5 in /usr/local/lib/python3.7/dist-packages (from python-dateutil>=2.7.3->pandas>=0.24.0->yfinance) (1.15.0)\n",
            "Requirement already satisfied: certifi>=2017.4.17 in /usr/local/lib/python3.7/dist-packages (from requests>=2.26->yfinance) (2021.10.8)\n",
            "Requirement already satisfied: idna<4,>=2.5 in /usr/local/lib/python3.7/dist-packages (from requests>=2.26->yfinance) (2.10)\n",
            "Requirement already satisfied: charset-normalizer~=2.0.0 in /usr/local/lib/python3.7/dist-packages (from requests>=2.26->yfinance) (2.0.11)\n",
            "Requirement already satisfied: urllib3<1.27,>=1.21.1 in /usr/local/lib/python3.7/dist-packages (from requests>=2.26->yfinance) (1.24.3)\n",
            "Installing collected packages: requests, lxml, yfinance\n",
            "  Attempting uninstall: requests\n",
            "    Found existing installation: requests 2.23.0\n",
            "    Uninstalling requests-2.23.0:\n",
            "      Successfully uninstalled requests-2.23.0\n",
            "  Attempting uninstall: lxml\n",
            "    Found existing installation: lxml 4.2.6\n",
            "    Uninstalling lxml-4.2.6:\n",
            "      Successfully uninstalled lxml-4.2.6\n",
            "\u001b[31mERROR: pip's dependency resolver does not currently take into account all the packages that are installed. This behaviour is the source of the following dependency conflicts.\n",
            "google-colab 1.0.0 requires requests~=2.23.0, but you have requests 2.27.1 which is incompatible.\n",
            "datascience 0.10.6 requires folium==0.2.1, but you have folium 0.8.3 which is incompatible.\u001b[0m\n",
            "Successfully installed lxml-4.8.0 requests-2.27.1 yfinance-0.1.70\n"
          ]
        }
      ],
      "source": [
        "import pandas as pd\n",
        "import numpy as np\n",
        "!pip install yfinance\n",
        "import yfinance as yf"
      ]
    },
    {
      "cell_type": "code",
      "execution_count": 2,
      "metadata": {
        "colab": {
          "base_uri": "https://localhost:8080/"
        },
        "id": "gltYe-owoP0g",
        "outputId": "39a10c94-abba-4479-db0e-a0ca871fe1c0"
      },
      "outputs": [
        {
          "name": "stdout",
          "output_type": "stream",
          "text": [
            "2022-2-22\n"
          ]
        }
      ],
      "source": [
        "import datetime\n",
        "now = datetime.datetime.now()\n",
        "today = str(now.year)+'-'+str(now.month)+'-'+str(now.day)\n",
        "print(today)"
      ]
    },
    {
      "cell_type": "code",
      "execution_count": 21,
      "metadata": {
        "colab": {
          "base_uri": "https://localhost:8080/"
        },
        "id": "6YJXwUzRnm0q",
        "outputId": "05838097-c4bd-4767-df17-513cdde791d9"
      },
      "outputs": [
        {
          "name": "stdout",
          "output_type": "stream",
          "text": [
            "\r[*********************100%***********************]  1 of 1 completed\n"
          ]
        }
      ],
      "source": [
        "name = 'SPY'\n",
        "df = yf.download('SPY', start='2010-01-01', end=today)"
      ]
    },
    {
      "cell_type": "code",
      "execution_count": 22,
      "metadata": {
        "id": "1moCE8X4o-9z"
      },
      "outputs": [],
      "source": [
        "Jan = []\n",
        "Feb = []\n",
        "Mar = []\n",
        "Apr = []\n",
        "May = []\n",
        "June = []\n",
        "July = []\n",
        "Aug = []\n",
        "Sept = []\n",
        "Oct = []\n",
        "Nov = []\n",
        "Dec = []\n",
        "\n",
        "def get_returns(month,returns):\n",
        "  if month == '01':\n",
        "    Jan.append(float(returns))\n",
        "  elif month == '02':\n",
        "    Feb.append(float(returns))\n",
        "  elif month == '03':\n",
        "    Mar.append(float(returns))\n",
        "  elif month == '04':\n",
        "    Apr.append(float(returns))\n",
        "  elif month == '05':\n",
        "    May.append(float(returns))\n",
        "  elif month == '06':\n",
        "    June.append(float(returns))\n",
        "  elif month == '07':\n",
        "    July.append(float(returns))  \n",
        "  elif month == '08':\n",
        "    Aug.append(float(returns))\n",
        "  elif month == '09':\n",
        "    Sept.append(float(returns))\n",
        "  elif month == '10':\n",
        "    Oct.append(float(returns))\n",
        "  elif month == '11':\n",
        "    Nov.append(float(returns))\n",
        "  elif month == '12':\n",
        "    Dec.append(float(returns))\n",
        "  else:\n",
        "    print(\"Something went wrong\")"
      ]
    },
    {
      "cell_type": "code",
      "execution_count": 23,
      "metadata": {
        "id": "eojVvPTRqSug"
      },
      "outputs": [],
      "source": [
        "DSR = df['Close'].pct_change(1)\n",
        "df['DSR'] = DSR\n",
        "df=df[1:]"
      ]
    },
    {
      "cell_type": "code",
      "execution_count": 24,
      "metadata": {
        "id": "jqtI5K0UquFw"
      },
      "outputs": [],
      "source": [
        "for i in range(0, len(df)):\n",
        "  df_date = str(df.index[i])\n",
        "  df_returns = df['DSR'][i]\n",
        "  df_month = df_date.split('-')[1]\n",
        "  get_returns(df_month, df_returns)\n"
      ]
    },
    {
      "cell_type": "code",
      "execution_count": 25,
      "metadata": {
        "id": "DzHOaJWZrwwq"
      },
      "outputs": [],
      "source": [
        "def avg_month(month):\n",
        "  return [sum(month)/len(month)]"
      ]
    },
    {
      "cell_type": "code",
      "execution_count": 26,
      "metadata": {
        "id": "htR2ybpfr9uK"
      },
      "outputs": [],
      "source": [
        "df_avg = pd.DataFrame()\n",
        "df_avg['average'] = avg_month(Jan) + avg_month(Feb) + avg_month(Mar) + avg_month(Apr) + avg_month(May) + avg_month(June) + avg_month(July) + avg_month(Aug) + avg_month(Sept) + avg_month(Oct) + avg_month(Nov) + avg_month(Dec) \n",
        "df_avg = df_avg.set_index(df_avg.index +1)"
      ]
    },
    {
      "cell_type": "code",
      "execution_count": 28,
      "metadata": {
        "colab": {
          "base_uri": "https://localhost:8080/",
          "height": 302
        },
        "id": "vdEErw6ssu1p",
        "outputId": "fd1cba04-a119-4aab-c517-d869e23ff065"
      },
      "outputs": [
        {
          "data": {
            "text/plain": [
              "Text(0.5, 1.0, 'SPY Worse month to invest average in september 2010')"
            ]
          },
          "execution_count": 28,
          "metadata": {},
          "output_type": "execute_result"
        },
        {
          "data": {
            "image/png": "[encoded data removed]",
            "text/plain": [
              "<Figure size 432x288 with 1 Axes>"
            ]
          },
          "metadata": {
            "needs_background": "light"
          },
          "output_type": "display_data"
        }
      ],
      "source": [
        "ax = df_avg.plot.bar()\n",
        "ax.set_title(name + ' Worse month to invest average in september 2010')"
      ]
    },
    {
      "cell_type": "code",
      "execution_count": 27,
      "metadata": {
        "id": "P1L1vtsTs3zS"
      },
      "outputs": [],
      "source": []
    }
  ],
  "metadata": {
    "colab": {
      "name": "Worse month to invest in",
      "provenance": []
    },
    "kernelspec": {
      "display_name": "Python 3",
      "name": "python3"
    },
    "language_info": {
      "name": "python",
      "version": "3.8.0"
    }
  },
  "nbformat": 4,
  "nbformat_minor": 0
}
